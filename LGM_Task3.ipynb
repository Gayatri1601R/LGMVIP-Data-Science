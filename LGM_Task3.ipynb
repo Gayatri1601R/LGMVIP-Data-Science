{
  "cells": [
    {
      "cell_type": "markdown",
      "metadata": {
        "id": "view-in-github",
        "colab_type": "text"
      },
      "source": [
        "<a href=\"https://colab.research.google.com/github/Gayatri1601R/LGMVIP-Data-Science/blob/main/LGM_Task3.ipynb\" target=\"_parent\"><img src=\"https://colab.research.google.com/assets/colab-badge.svg\" alt=\"Open In Colab\"/></a>"
      ]
    },
    {
      "cell_type": "markdown",
      "source": [
        "**LGM-VIP Data Science Internship Programme**"
      ],
      "metadata": {
        "id": "qeoEP1CKJVNV"
      }
    },
    {
      "cell_type": "markdown",
      "source": [
        "Author - Gayatri Rajopadhye"
      ],
      "metadata": {
        "id": "PpyLJEJzJiNS"
      }
    },
    {
      "cell_type": "markdown",
      "source": [
        "**Advanced Level Task 2: Next Word Prediction**"
      ],
      "metadata": {
        "id": "o9TbonR6JoIK"
      }
    },
    {
      "cell_type": "markdown",
      "source": [
        "**Importing libraries** "
      ],
      "metadata": {
        "id": "EzZxxVBLJ2g_"
      }
    },
    {
      "cell_type": "code",
      "execution_count": null,
      "metadata": {
        "id": "yob9VB_TgaNx"
      },
      "outputs": [],
      "source": [
        "import numpy as np\n",
        "from nltk.tokenize import RegexpTokenizer\n",
        "from keras.models import Sequential, load_model\n",
        "from keras.layers import LSTM\n",
        "from keras.layers.core import Dense, Activation\n",
        "from tensorflow.keras.optimizers import RMSprop\n",
        "import matplotlib.pyplot as plt\n",
        "import pickle\n",
        "import heapq"
      ]
    },
    {
      "cell_type": "markdown",
      "source": [
        "**Loading Dataset**"
      ],
      "metadata": {
        "id": "sOuB1gEmKBgz"
      }
    },
    {
      "cell_type": "code",
      "execution_count": null,
      "metadata": {
        "colab": {
          "base_uri": "https://localhost:8080/"
        },
        "id": "0Poc8yexhlI5",
        "outputId": "489bde56-aed1-4896-d9a1-d2f340d3c264"
      },
      "outputs": [
        {
          "name": "stdout",
          "output_type": "stream",
          "text": [
            "Corpus Length: 581888\n"
          ]
        }
      ],
      "source": [
        "path = '1661-0.txt'\n",
        "text = open(path).read().lower()\n",
        "print('Corpus Length:', len(text))"
      ]
    },
    {
      "cell_type": "markdown",
      "source": [
        "**Splitting Dataset into one word each**"
      ],
      "metadata": {
        "id": "_D0Wo9Z4KHWQ"
      }
    },
    {
      "cell_type": "code",
      "execution_count": null,
      "metadata": {
        "id": "M6vCjIUYiDgc"
      },
      "outputs": [],
      "source": [
        "tokenizer = RegexpTokenizer(r'\\w+')\n",
        "words = tokenizer.tokenize(text)"
      ]
    },
    {
      "cell_type": "markdown",
      "source": [
        "**Making list of Sorted Unique Words**"
      ],
      "metadata": {
        "id": "V3Mf9RneKSml"
      }
    },
    {
      "cell_type": "code",
      "execution_count": null,
      "metadata": {
        "id": "YQt4OuO-iWoz"
      },
      "outputs": [],
      "source": [
        "unique_words = np.unique(words)\n",
        "unique_word_index = dict((c, i) for i, c in enumerate(unique_words))"
      ]
    },
    {
      "cell_type": "markdown",
      "source": [
        "**Feature Engineering**"
      ],
      "metadata": {
        "id": "yIo595pcKd2U"
      }
    },
    {
      "cell_type": "code",
      "execution_count": null,
      "metadata": {
        "colab": {
          "base_uri": "https://localhost:8080/"
        },
        "id": "N2kx_PWuitnx",
        "outputId": "4e837878-ba6e-4507-d05c-cc837daa3346"
      },
      "outputs": [
        {
          "name": "stdout",
          "output_type": "stream",
          "text": [
            "['project', 'gutenberg', 's', 'the']\n",
            "adventures\n"
          ]
        }
      ],
      "source": [
        "WORD_LENGTH = 4 \n",
        "prev_words = []\n",
        "next_words = []\n",
        "for i in range(len(words) - WORD_LENGTH):\n",
        "    prev_words.append(words[i:i + WORD_LENGTH])\n",
        "    next_words.append(words[i + WORD_LENGTH])\n",
        "print(prev_words[0])\n",
        "print(next_words[0])"
      ]
    },
    {
      "cell_type": "markdown",
      "source": [
        "**Storing Feature and Corresponding Labels**"
      ],
      "metadata": {
        "id": "O2G_NTW4Knn1"
      }
    },
    {
      "cell_type": "code",
      "execution_count": null,
      "metadata": {
        "id": "7o81j-L0kTGr"
      },
      "outputs": [],
      "source": [
        "X = np.zeros((len(prev_words), WORD_LENGTH, len(unique_words)), dtype=bool)\n",
        "Y = np.zeros((len(next_words), len(unique_words)), dtype=bool)\n",
        "for i, each_words in enumerate(prev_words):\n",
        "    for j, each_word in enumerate(each_words):\n",
        "        X[i, j, unique_word_index[each_word]] = 1\n",
        "    Y[i, unique_word_index[next_words[i]]] = 1"
      ]
    },
    {
      "cell_type": "code",
      "execution_count": null,
      "metadata": {
        "colab": {
          "base_uri": "https://localhost:8080/"
        },
        "id": "E1LkfHLtl0Sw",
        "outputId": "dce66b28-17b3-41a4-a0e4-4b8de9a0bd9c"
      },
      "outputs": [
        {
          "name": "stdout",
          "output_type": "stream",
          "text": [
            "[False False False ... False False False]\n"
          ]
        }
      ],
      "source": [
        "print(X[0][0])"
      ]
    },
    {
      "cell_type": "markdown",
      "source": [
        "**Building the model**"
      ],
      "metadata": {
        "id": "8SzA6vTpKzSq"
      }
    },
    {
      "cell_type": "code",
      "execution_count": null,
      "metadata": {
        "id": "XFlHKixJl5AB"
      },
      "outputs": [],
      "source": [
        "model = Sequential()\n",
        "model.add(LSTM(128, input_shape=(WORD_LENGTH, len(unique_words))))\n",
        "model.add(Dense(len(unique_words)))\n",
        "model.add(Activation('softmax'))"
      ]
    },
    {
      "cell_type": "markdown",
      "source": [
        "**Training our Model**"
      ],
      "metadata": {
        "id": "huqDBzY-K3Lx"
      }
    },
    {
      "cell_type": "code",
      "execution_count": null,
      "metadata": {
        "colab": {
          "background_save": true,
          "base_uri": "https://localhost:8080/"
        },
        "id": "DgekLMTqmpzd",
        "outputId": "20dcaa35-73e8-4682-90b1-f53e9783dc47"
      },
      "outputs": [
        {
          "name": "stderr",
          "output_type": "stream",
          "text": [
            "/usr/local/lib/python3.7/dist-packages/keras/optimizer_v2/rmsprop.py:130: UserWarning: The `lr` argument is deprecated, use `learning_rate` instead.\n",
            "  super(RMSprop, self).__init__(name, **kwargs)\n"
          ]
        },
        {
          "name": "stdout",
          "output_type": "stream",
          "text": [
            "Epoch 1/20\n",
            "811/811 [==============================] - 258s 315ms/step - loss: 5.9067 - accuracy: 0.1140 - val_loss: 7.0806 - val_accuracy: 0.1001\n",
            "Epoch 2/20\n",
            "811/811 [==============================] - 245s 302ms/step - loss: 5.7662 - accuracy: 0.1503 - val_loss: 8.0600 - val_accuracy: 0.1075\n",
            "Epoch 3/20\n",
            "811/811 [==============================] - 225s 277ms/step - loss: 5.7184 - accuracy: 0.1785 - val_loss: 8.0752 - val_accuracy: 0.1104\n",
            "Epoch 4/20\n",
            "811/811 [==============================] - 225s 277ms/step - loss: 5.4269 - accuracy: 0.2135 - val_loss: 8.3298 - val_accuracy: 0.1022\n",
            "Epoch 5/20\n",
            "811/811 [==============================] - 222s 274ms/step - loss: 5.1517 - accuracy: 0.2523 - val_loss: 8.4610 - val_accuracy: 0.1009\n",
            "Epoch 6/20\n",
            "811/811 [==============================] - 221s 273ms/step - loss: 4.9039 - accuracy: 0.2909 - val_loss: 8.4502 - val_accuracy: 0.0868\n",
            "Epoch 7/20\n",
            "811/811 [==============================] - 221s 273ms/step - loss: 4.7166 - accuracy: 0.3281 - val_loss: 8.6499 - val_accuracy: 0.0853\n",
            "Epoch 8/20\n",
            "811/811 [==============================] - 219s 270ms/step - loss: 4.5864 - accuracy: 0.3590 - val_loss: 8.6169 - val_accuracy: 0.0873\n",
            "Epoch 9/20\n",
            "811/811 [==============================] - 220s 272ms/step - loss: 4.4702 - accuracy: 0.3894 - val_loss: 8.7543 - val_accuracy: 0.0780\n",
            "Epoch 10/20\n",
            "811/811 [==============================] - 220s 271ms/step - loss: 4.3682 - accuracy: 0.4168 - val_loss: 8.8326 - val_accuracy: 0.0857\n",
            "Epoch 11/20\n",
            "811/811 [==============================] - 223s 275ms/step - loss: 4.2590 - accuracy: 0.4407 - val_loss: 8.8898 - val_accuracy: 0.0780\n",
            "Epoch 12/20\n",
            "811/811 [==============================] - 222s 274ms/step - loss: 4.1455 - accuracy: 0.4629 - val_loss: 8.9773 - val_accuracy: 0.0769\n",
            "Epoch 13/20\n",
            "811/811 [==============================] - 224s 277ms/step - loss: 4.0394 - accuracy: 0.4835 - val_loss: 9.0509 - val_accuracy: 0.0738\n",
            "Epoch 14/20\n",
            "811/811 [==============================] - 223s 274ms/step - loss: 3.9662 - accuracy: 0.5011 - val_loss: 8.9912 - val_accuracy: 0.0732\n",
            "Epoch 15/20\n",
            "811/811 [==============================] - 223s 275ms/step - loss: 3.9113 - accuracy: 0.5150 - val_loss: 9.0948 - val_accuracy: 0.0747\n",
            "Epoch 16/20\n",
            "811/811 [==============================] - 224s 276ms/step - loss: 3.8464 - accuracy: 0.5283 - val_loss: 9.1537 - val_accuracy: 0.0712\n",
            "Epoch 17/20\n",
            "811/811 [==============================] - 222s 273ms/step - loss: 3.7827 - accuracy: 0.5396 - val_loss: 9.1483 - val_accuracy: 0.0721\n",
            "Epoch 18/20\n",
            "811/811 [==============================] - 225s 278ms/step - loss: 3.7152 - accuracy: 0.5500 - val_loss: 9.1410 - val_accuracy: 0.0720\n",
            "Epoch 19/20\n",
            "811/811 [==============================] - 223s 275ms/step - loss: 3.6610 - accuracy: 0.5601 - val_loss: 9.1933 - val_accuracy: 0.0698\n",
            "Epoch 20/20\n",
            "811/811 [==============================] - 221s 273ms/step - loss: 3.5980 - accuracy: 0.5711 - val_loss: 9.1996 - val_accuracy: 0.0688\n"
          ]
        }
      ],
      "source": [
        "optimizer = RMSprop(lr=0.01)\n",
        "model.compile(loss='categorical_crossentropy', optimizer=optimizer, metrics=['accuracy'])\n",
        "history = model.fit(X, Y, validation_split=0.05, batch_size=128, epochs=20, shuffle=True).history"
      ]
    },
    {
      "cell_type": "markdown",
      "source": [
        "**Loading Our Model**"
      ],
      "metadata": {
        "id": "tyysIKkkLDmh"
      }
    },
    {
      "cell_type": "code",
      "execution_count": 13,
      "metadata": {
        "id": "NxM8DFs5ngXG"
      },
      "outputs": [],
      "source": [
        "model.save('keras_next_word_model.h5')\n",
        "pickle.dump(history, open(\"history.p\", \"wb\"))\n",
        "model = load_model('keras_next_word_model.h5')\n",
        "history = pickle.load(open(\"history.p\", \"rb\"))"
      ]
    },
    {
      "cell_type": "markdown",
      "source": [
        "**Making Predictions**"
      ],
      "metadata": {
        "id": "MnoEjVHxLImJ"
      }
    },
    {
      "cell_type": "code",
      "execution_count": 14,
      "metadata": {
        "colab": {
          "base_uri": "https://localhost:8080/"
        },
        "id": "Y24mCpYGoKsH",
        "outputId": "ea787d87-af0c-42e9-cee9-afe1559538e1"
      },
      "outputs": [
        {
          "output_type": "stream",
          "name": "stdout",
          "text": [
            "how\n",
            "are\n",
            "you\n"
          ]
        },
        {
          "output_type": "execute_result",
          "data": {
            "text/plain": [
              "array([[[0., 0., 0., ..., 0., 0., 0.],\n",
              "        [0., 0., 0., ..., 0., 0., 0.],\n",
              "        [0., 0., 0., ..., 0., 0., 0.],\n",
              "        [0., 0., 0., ..., 0., 0., 0.]]])"
            ]
          },
          "metadata": {},
          "execution_count": 14
        }
      ],
      "source": [
        "def prepare_input(text):\n",
        "  x = np.zeros((1, WORD_LENGTH, len(unique_words)))\n",
        "  for t, word in enumerate(text.split()):\n",
        "    print(word)\n",
        "    x[0, t, unique_word_index[word]] = 1\n",
        "  return x\n",
        "prepare_input(\"How are you \".lower())"
      ]
    },
    {
      "cell_type": "code",
      "execution_count": 15,
      "metadata": {
        "id": "VXFT34WAxm0V"
      },
      "outputs": [],
      "source": [
        "def sample(preds, top_n=3):\n",
        "  preds = np.asarray(preds).astype('float64')\n",
        "  preds = np.log(preds)\n",
        "  exp_preds = np.exp(preds)\n",
        "  preds = exp_preds / np.sum(exp_preds)\n",
        "  return heapq.nlargest(top_n, range(len(preds)), preds.take)"
      ]
    },
    {
      "cell_type": "markdown",
      "source": [
        "**Function for Prediction**"
      ],
      "metadata": {
        "id": "7C2l_5KpLSGM"
      }
    },
    {
      "cell_type": "code",
      "execution_count": 17,
      "metadata": {
        "id": "MpBKPwE7ow_w"
      },
      "outputs": [],
      "source": [
        "def predict_completions(text, n=3):\n",
        "  if text == \"\":\n",
        "      return(\"0\")\n",
        "  x = prepare_input(text)\n",
        "  preds = model.predict(x, verbose=0)[0]\n",
        "  next_indices = sample(preds, n)\n",
        "  return [unique_words[idx] for idx in next_indices]"
      ]
    },
    {
      "cell_type": "code",
      "execution_count": 18,
      "metadata": {
        "id": "q9i9dDxDpZQH",
        "colab": {
          "base_uri": "https://localhost:8080/"
        },
        "outputId": "6a2c7a8e-bf68-405d-a563-e2645aa6567d"
      },
      "outputs": [
        {
          "output_type": "stream",
          "name": "stdout",
          "text": [
            "Sequence:  Will you be my partner?\n",
            "Sequence:  will you\n",
            "will\n",
            "you\n",
            "Next Possible Words:  ['really', 'nothing']\n"
          ]
        }
      ],
      "source": [
        "s = \"Will you be my partner?\"\n",
        "print(\"Sequence: \",s)\n",
        "seq = \" \".join(tokenizer.tokenize(s.lower())[0:2])\n",
        "print(\"Sequence: \",seq)\n",
        "print(\"Next Possible Words: \", predict_completions(seq, 2))"
      ]
    },
    {
      "cell_type": "code",
      "execution_count": 19,
      "metadata": {
        "id": "5z6mXMA1o7GU",
        "colab": {
          "base_uri": "https://localhost:8080/"
        },
        "outputId": "ee85f876-a40b-431a-9d49-602d6160fa1c"
      },
      "outputs": [
        {
          "output_type": "stream",
          "name": "stdout",
          "text": [
            "Sentence:  This is not going anywhere.\n",
            "Sequence:  this is not going\n",
            "this\n",
            "is\n",
            "not\n",
            "going\n",
            "Next Possible Words:  ['on', 'up', 'as', 'out']\n"
          ]
        }
      ],
      "source": [
        "sen = \"This is not going anywhere.\"\n",
        "print(\"Sentence: \",sen)\n",
        "sequ = \" \".join(tokenizer.tokenize(sen.lower())[0:4])\n",
        "print(\"Sequence: \",sequ)\n",
        "print(\"Next Possible Words: \", predict_completions(sequ, 4))"
      ]
    },
    {
      "cell_type": "code",
      "execution_count": null,
      "metadata": {
        "id": "1IUkmWf0b2Ou"
      },
      "outputs": [],
      "source": [
        ""
      ]
    }
  ],
  "metadata": {
    "colab": {
      "collapsed_sections": [],
      "name": "LGM_Task3.ipynb",
      "provenance": [],
      "authorship_tag": "ABX9TyPwVObi+v6dLt8RrplGf7dG",
      "include_colab_link": true
    },
    "kernelspec": {
      "display_name": "Python 3",
      "name": "python3"
    },
    "language_info": {
      "name": "python"
    }
  },
  "nbformat": 4,
  "nbformat_minor": 0
}